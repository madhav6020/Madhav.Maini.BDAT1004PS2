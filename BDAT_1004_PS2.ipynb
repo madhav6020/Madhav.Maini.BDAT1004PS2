{
 "cells": [
  {
   "cell_type": "markdown",
   "id": "1556868c",
   "metadata": {},
   "source": [
    "# BDAT_1004_PROBLEMSET_2"
   ]
  },
  {
   "cell_type": "markdown",
   "id": "3c75c485",
   "metadata": {},
   "source": [
    "## Question 1"
   ]
  },
  {
   "cell_type": "markdown",
   "id": "1b7b4d72",
   "metadata": {},
   "source": [
    "<b>Consider the following Python module:</b>\n",
    "<b> a = 0</b><br><br><br><b>def b():</b><br><br>    <b>global a</b><br><br>    <b>a = c(a)</b><br><br><br><b>def c(a):</b><br><br>    <b>return a + 2</b>\n",
    "<b>After importing the module into the interpreter, you execute:</b>\n",
    "<b>>>> b()</b><br><br><b>>>> b()</b><br><br><b>>>> b()</b><br><br><b>>>> a</b><br><b>?</b><br><br>\n",
    "<b>What value is displayed when the last expression (a) is evaluated? Explain your answer by indicating what happens in every executed statement.</b>"
   ]
  },
  {
   "cell_type": "code",
   "execution_count": 2,
   "id": "a3432d16",
   "metadata": {},
   "outputs": [
    {
     "name": "stdout",
     "output_type": "stream",
     "text": [
      "Value of a :  6\n"
     ]
    }
   ],
   "source": [
    "a =0                                            # Set the variable 'a' to 0 upon initialization.\n",
    "\n",
    "def b():                        \n",
    "    global a                                    # To indicate that we wish to change the variable \"a,\" use the word \"global.\"\n",
    "    a = c(a)                                    # Give the current value of 'a' to the function 'c(a)' and assign the result back to 'a'. \n",
    "    \n",
    "def c(a):                        \n",
    "    return a + 2                                # Return the result after adding the value of \"a\" by 2 \n",
    "\n",
    "b()                                             # Call the function 'b()' for the first time\n",
    "b()                                             # Call the function 'b()' for the second time\n",
    "b()                                             # Call the function 'b()' for the third time \n",
    "print(\"Value of a : \",a)                        # Display the value of the global variable 'a'"
   ]
  },
  {
   "cell_type": "markdown",
   "id": "a668cd5d",
   "metadata": {},
   "source": [
    "####  To comprehend the programme, go through each statement that was executed::\n",
    "<ol>\n",
    "    <li>b(): The initial call to the method b() is made. Global an is used inside the function to indicate that we want to change the existing global variable a rather than defining a brand-new local variable. The current value of a (which is 0) is used to call the function c(a). 2 is added to the value of an inside of c(a), and the new value is then returned. Considering that an is a global variable, its updated value is now 2.</li>\n",
    "    <li>b(): A second call to the method b() is made. Once more, the global variable an is changed using global a. The current value of a (which is 2) is used to call the function c(a). The new value is returned as 4 after the value of a (2) is increased by 2 inside of c(a). Updated to 4, the global variable an is now.</li>\n",
    "    <li>b(): The third call to the method b() is made. The global variable an is altered using global a. The current value of a, which is 4, is used to call the function c(a). Inside of c(a), the value of a (4) is increased by 2 to produce 6, which is then returned as the new value. A global variable is changed to 6 and stored.</li>\n",
    "    <li>a: After three calls to b(), the value of the global variable a, which is now 6, is shown.</li>\n",
    "</ol>\n",
    "\n",
    "#### As a result, when a is evaluated, the value shown is 6.<br><br>"
   ]
  },
  {
   "cell_type": "markdown",
   "id": "f4d047f7",
   "metadata": {},
   "source": [
    "## Question 2"
   ]
  },
  {
   "cell_type": "markdown",
   "id": "31548b80",
   "metadata": {},
   "source": [
    "<b>Function fileLength(), given to you, takes the name of a file as input and returns the length of the file:</b><br>\n",
    "<b>>>> fileLength('midterm.py')</b><br><b>284</b><br><b>>>> fileLength('idterm.py')</b><br><b>Traceback (most recent call last):</b><br><b>File \"<pyshell#34>\", line 1, in <\"module\"></b><br><b>fileLength('idterm.py')</b><br><b>File \"/Users/me/midterm.py\", line 3, in fileLength</b><br><b>infile = open(filename)</b><br><b>FileNotFoundError: [Errno 2] No such file or directory:</b><br><b>'idterm.py'</b><br><br>\n",
    "<b>As shown above, if the file cannot be found by the interpreter or if it cannot be read as a text file, an exception will be raised. Modify function fileLength() so that a friendly message is printed instead:</b><br>\n",
    "<b>>>> fileLength('midterm.py')</b><br><b>358</b><br><b>>>> fileLength('idterm.py')</b><br><b>File idterm.py not found.</b>\n"
   ]
  },
  {
   "cell_type": "code",
   "execution_count": 2,
   "id": "84412377",
   "metadata": {},
   "outputs": [
    {
     "name": "stdout",
     "output_type": "stream",
     "text": [
      "634\n",
      "File idterm.py not found.\n"
     ]
    }
   ],
   "source": [
    "def fileLength(filename):\n",
    "    try:\n",
    "        file = open(filename)                                 # Try to open the file\n",
    "        contents = file.read()                                 # Read the contents of the file\n",
    "        file.close()                                           # Close the file\n",
    "        print(len(contents))                                   # Print the length of the contents\n",
    "    except :\n",
    "        print(\"File \"+filename+\" not found.\")                 # Print a friendly message if the file is not found\n",
    "    \n",
    "\n",
    "fileLength('midterm.py')                                      # Existing file\n",
    "fileLength('idterm.py')                                       # Non-existing file\n"
   ]
  },
  {
   "cell_type": "markdown",
   "id": "48722ab1",
   "metadata": {},
   "source": [
    "## Question 3"
   ]
  },
  {
   "cell_type": "markdown",
   "id": "b6b5c696",
   "metadata": {},
   "source": [
    "<b>Write a class named Marsupial that can be used as shown below:</b><br><br>\n",
    "<b>>>> m = Marsupial()</b><br><br><b>>>> m.put_in_pouch('doll')</b><br><br><b>>>> m.put_in_pouch('firetruck')</b><br><br><b>>>> m.put_in_pouch('kitten')</b><br><br><b>>>> m.pouch_contents()</b><br><br><b>['doll', 'firetruck', 'kitten']</b><br><br>\n",
    "<b>Now write a class named Kangaroo as a subclass of Marsupial that inherits all the attributes of Marsupial and also:</b><br><b>a. extends the Marsupial \"__init__\" constructor to take, as input, the coordinates x and y of the Kangaroo object,</b><br><b>b. supports method jump that takes number values dx and dy as input and moves the kangaroo by dx units along the x-axis and by dy units along the yaxis, and</b><br><b>c. overloads the \"__str__\" operator so it behaves as shown below.</b><br><br>\n",
    "<b>>>> k = Kangaroo(0,0)</b><br><b>>>> print(k)</b><br><b>I am a Kangaroo located at coordinates (0,0)</b><br><b>>>> k.put_in_pouch('doll')</b><br><b>>>> k.put_in_pouch('firetruck')</b><br><b>>>> k.put_in_pouch('kitten')</b><br><b>>>> k.pouch_contents()</b><br><b>['doll', 'firetruck', 'kitten']</b><br><b>>>> k.jump(1,0)</b><br><b>>>> k.jump(1,0)</b><br><b>>>> k.jump(1,0)</b><br><b>>>> print(k)</b><br><b>I am a Kangaroo located at coordinates (3,0)</b>"
   ]
  },
  {
   "cell_type": "code",
   "execution_count": 1,
   "id": "516c2e2f",
   "metadata": {},
   "outputs": [
    {
     "name": "stdout",
     "output_type": "stream",
     "text": [
      "['doll', 'firetruck', 'kitten']\n"
     ]
    }
   ],
   "source": [
    "class Marsupial:\n",
    "    def __init__(self):\n",
    "        self.pouch = []                           # Initialize an empty list to store pouch contents\n",
    "    \n",
    "    def put_in_pouch(self, item):\n",
    "        self.pouch.append(item)                   # Add an item to the pouch\n",
    "    \n",
    "    def pouch_contents(self):\n",
    "        return self.pouch                         # Return the contents of the pouch\n",
    "\n",
    "\n",
    "m = Marsupial()\n",
    "m.put_in_pouch('doll')\n",
    "m.put_in_pouch('firetruck')\n",
    "m.put_in_pouch('kitten')\n",
    "print(m.pouch_contents())  \n",
    "\n"
   ]
  },
  {
   "cell_type": "code",
   "execution_count": 2,
   "id": "d5dd6e47",
   "metadata": {},
   "outputs": [
    {
     "name": "stdout",
     "output_type": "stream",
     "text": [
      "I am a Kangaroo located at coordinates (0,0)\n",
      "['doll', 'firetruck', 'kitten']\n",
      "I am a Kangaroo located at coordinates (3,0)\n"
     ]
    }
   ],
   "source": [
    "class Marsupial:\n",
    "    def __init__(self):\n",
    "        self.pouch = []                           # Initialize an empty list to store pouch contents\n",
    "    \n",
    "    def put_in_pouch(self, item):\n",
    "        self.pouch.append(item)                   # Add an item to the pouch\n",
    "    \n",
    "    def pouch_contents(self):\n",
    "        return self.pouch                         # Return the contents of the pouch\n",
    "\n",
    "\n",
    "class Kangaroo(Marsupial):\n",
    "    def __init__(self, x, y):\n",
    "        super().__init__()                        # Call the superclass Marsupial's constructor\n",
    "        self.x = x                                # Initialize the x-coordinate of the Kangaroo\n",
    "        self.y = y                                # Initialize the y-coordinate of the Kangaroo\n",
    "    \n",
    "    def jump(self, dx, dy):\n",
    "        self.x += dx                              # Move the Kangaroo along the x-axis by dx units\n",
    "        self.y += dy                              # Move the Kangaroo along the y-axis by dy units\n",
    "    \n",
    "    def __str__(self):\n",
    "        return f\"I am a Kangaroo located at coordinates ({self.x},{self.y})\"\n",
    "\n",
    "\n",
    "\n",
    "\n",
    "k = Kangaroo(0, 0)\n",
    "print(k)  \n",
    "k.put_in_pouch('doll')\n",
    "k.put_in_pouch('firetruck')\n",
    "k.put_in_pouch('kitten')\n",
    "print(k.pouch_contents())  \n",
    "k.jump(1, 0)\n",
    "k.jump(1, 0)\n",
    "k.jump(1, 0)\n",
    "print(k)  \n"
   ]
  },
  {
   "cell_type": "markdown",
   "id": "29d0bba8",
   "metadata": {},
   "source": [
    "## Question 4"
   ]
  },
  {
   "cell_type": "markdown",
   "id": "265148c5",
   "metadata": {},
   "source": [
    "<b>Write function collatz() that takes a positive integer x as input and prints the Collatz sequence starting at x. A Collatz sequence is obtained by repeatedly applying this rule to the previous number x in the sequence:</b><br><br>\n",
    "<b>x =</b> \n",
    "> 𝑥/2    𝑖𝑓 𝑥 𝑖𝑠 𝑒𝑣𝑒𝑛<br>3𝑥 + 1   𝑖𝑓 𝑥 𝑖𝑠 𝑜𝑑𝑑\n",
    "\n",
    "<b>Your function should stop when the sequence gets to number 1. Your implementation must be recursive, without any loops.</b>\n",
    "<b>>>> collatz(1)</b><br><b>1</b><br><b>>>> collatz(10)</b><br><b>10</b><br><b>5</b><br><b>16</b><br><b>8</b><br><b>4</b><br><b>2</b><br><b>1</b>"
   ]
  },
  {
   "cell_type": "code",
   "execution_count": 3,
   "id": "c17e4f25",
   "metadata": {},
   "outputs": [
    {
     "name": "stdout",
     "output_type": "stream",
     "text": [
      "1\n"
     ]
    }
   ],
   "source": [
    "def collatz(x):\n",
    "    print(x)                                     # Print the current number in the sequence\n",
    "    \n",
    "    # Base case: Stop when the number reaches 1\n",
    "    if x == 1:\n",
    "        return\n",
    "    \n",
    "    # Recursive case: Calculate the next number in the sequence based on the Collatz rule\n",
    "    if x % 2 == 0:\n",
    "        collatz(x // 2)                         # If x is even, divide it by 2\n",
    "    else:\n",
    "        collatz(3 * x + 1)                      # If x is odd, multiply it by 3 and add 1\n",
    "\n",
    "\n",
    "\n",
    "collatz(1)\n"
   ]
  },
  {
   "cell_type": "code",
   "execution_count": 4,
   "id": "5bcfe409",
   "metadata": {},
   "outputs": [
    {
     "name": "stdout",
     "output_type": "stream",
     "text": [
      "10\n",
      "5\n",
      "16\n",
      "8\n",
      "4\n",
      "2\n",
      "1\n"
     ]
    }
   ],
   "source": [
    "collatz(10)"
   ]
  },
  {
   "cell_type": "markdown",
   "id": "c26c42c2",
   "metadata": {},
   "source": [
    "## Question 5\n"
   ]
  },
  {
   "cell_type": "markdown",
   "id": "a23bcc8d",
   "metadata": {},
   "source": [
    "<b>Write a recursive method binary() that takes a non-negative integer n and prints the binary representation of integer n.</b><br><br>\n",
    "<b>>>> binary(0)</b><br><b>0</b><br><b>>>> binary(1)</b><br><b>1</b><br><b>>>> binary(3)</b><br><b>11</b><br><b>>> binary(9)</b><br><b>100</b>"
   ]
  },
  {
   "cell_type": "code",
   "execution_count": 3,
   "id": "ec5b3f61",
   "metadata": {},
   "outputs": [
    {
     "data": {
      "text/plain": [
       "0"
      ]
     },
     "execution_count": 3,
     "metadata": {},
     "output_type": "execute_result"
    }
   ],
   "source": [
    "def binary(x):\n",
    "    if x == 0:\n",
    "        return 0     #if input is 0, output will be 0\n",
    "    else:\n",
    "        binary(x//2)    #print binary values\n",
    "    print(x % 2,end = '')\n",
    "\n",
    "binary(0)"
   ]
  },
  {
   "cell_type": "code",
   "execution_count": 4,
   "id": "04b992bf",
   "metadata": {},
   "outputs": [
    {
     "name": "stdout",
     "output_type": "stream",
     "text": [
      "1"
     ]
    }
   ],
   "source": [
    "binary(1)\n"
   ]
  },
  {
   "cell_type": "code",
   "execution_count": 5,
   "id": "6453b2f0",
   "metadata": {},
   "outputs": [
    {
     "name": "stdout",
     "output_type": "stream",
     "text": [
      "11"
     ]
    }
   ],
   "source": [
    "binary(3)"
   ]
  },
  {
   "cell_type": "code",
   "execution_count": 6,
   "id": "17e458e5",
   "metadata": {},
   "outputs": [
    {
     "name": "stdout",
     "output_type": "stream",
     "text": [
      "1001"
     ]
    }
   ],
   "source": [
    "binary(9)"
   ]
  },
  {
   "cell_type": "markdown",
   "id": "f372a020",
   "metadata": {},
   "source": [
    "## Question 6\n"
   ]
  },
  {
   "cell_type": "markdown",
   "id": "14eabff7",
   "metadata": {},
   "source": [
    "<b>Implement a class named HeadingParser that can be used to parse an HTML document, and retrieve and print all the headings in the document. You should implement your class as a subclass of HTMLParser, defined in Standard Library module html.parser. When fed a string containing HTML code, your class should print the headings, one per line and in the order in which they appear in the document. Each heading should be indented as follows: an h1 heading should have indentation 0, and h2 heading should have indentation 1, etc. Test your implementation using w3c.html.</b><br><br>\n",
    "<b>>>> infile = open('w3c.html')</b><br><b>>>> content = infile.read()</b><br><b>>>> infile.close()</b><br><b>>>> hp = HeadingParser()</b><br><b>>>> hp.feed(content)</b><br><b>W3C Mission</b><br><b>Principle</b>"
   ]
  },
  {
   "cell_type": "code",
   "execution_count": 21,
   "id": "9365565d",
   "metadata": {},
   "outputs": [
    {
     "name": "stdout",
     "output_type": "stream",
     "text": [
      "W3C Mission\n",
      " Principles\n"
     ]
    }
   ],
   "source": [
    "from html.parser import HTMLParser\n",
    "\n",
    "\n",
    "class HeadingParser(HTMLParser):\n",
    "    def __init__(self):\n",
    "        super().__init__()\n",
    "        self.indentation = 0\n",
    "        self.in_heading = False\n",
    "\n",
    "    def handle_starttag(self, tag, attrs):\n",
    "        if tag.startswith(\"h\") and len(tag) == 2 and tag[1].isdigit():\n",
    "            self.indentation = int(tag[1]) - 1\n",
    "            self.in_heading = True\n",
    "\n",
    "    def handle_endtag(self, tag):\n",
    "        if tag.startswith(\"h\"):\n",
    "            self.in_heading = False\n",
    "\n",
    "    def handle_data(self, data):\n",
    "        if self.in_heading:\n",
    "            indentation_spaces = \" \" * self.indentation\n",
    "            print(f\"{indentation_spaces}{data.strip()}\")\n",
    "\n",
    "\n",
    "\n",
    "infile = open('w3c.html')\n",
    "content = infile.read()\n",
    "infile.close()\n",
    "\n",
    "hp = HeadingParser()\n",
    "hp.feed(content)\n"
   ]
  },
  {
   "cell_type": "markdown",
   "id": "0f891e23",
   "metadata": {},
   "source": [
    "## Question 7\n"
   ]
  },
  {
   "cell_type": "markdown",
   "id": "6dbe6718",
   "metadata": {},
   "source": [
    "<b>Implement recursive function webdir() that takes as input: a URL (as a string) and non-negative integers depth and indent. Your function should visit every web page reachable from the starting URL web page in depth clicks or less, and print each web page's URL. As shown below, indentation, specified by indent, should be used to indicate the depth of a URL.</b><br><br>\n",
    "<b>>>></b><br><b>webdir('http://reed.cs.depaul.edu/lperkovic/csc242/test1.html', 2, 0)</b><br><br><b>http://reed.cs.depaul.edu/lperkovic/csc242/test1.html</b><br><b>http://reed.cs.depaul.edu/lperkovic/csc242/test2.html</b><br><b>http://reed.cs.depaul.edu/lperkovic/csc242/test4.html</b><br><b>http://reed.cs.depaul.edu/lperkovic/csc242/test3.html</b><br><b>http://reed.cs.depaul.edu/lperkovic/csc242/test4.html</b>"
   ]
  },
  {
   "cell_type": "code",
   "execution_count": 27,
   "id": "3ababdaa",
   "metadata": {},
   "outputs": [
    {
     "name": "stdout",
     "output_type": "stream",
     "text": [
      "http://reed.cs.depaul.edu/lperkovic/csc242/test1.html\n",
      "http://reed.cs.depaul.edu/lperkovic/csc242/test2.html\n",
      "http://reed.cs.depaul.edu/lperkovic/csc242/test3.html\n",
      "http://reed.cs.depaul.edu/lperkovic/csc242/test4.html\n"
     ]
    }
   ],
   "source": [
    "import requests\n",
    "from bs4 import BeautifulSoup\n",
    "\n",
    "def webdir(url, depth, indent):\n",
    "    if depth == 0:\n",
    "        return\n",
    "\n",
    "    response = requests.get(url)\n",
    "    soup = BeautifulSoup(response.text, 'html.parser')\n",
    "\n",
    "    print(' ' * indent + url)\n",
    "\n",
    "    for link in soup.find_all('a'):\n",
    "        href = link.get('href')\n",
    "        if href.startswith('http'):\n",
    "            webdir(href, depth - 1, indent + 1)\n",
    "\n",
    "\n",
    "webdir('http://reed.cs.depaul.edu/lperkovic/csc242/test1.html', 2, 0)\n",
    "webdir('http://reed.cs.depaul.edu/lperkovic/csc242/test2.html', 2, 0)\n",
    "webdir('http://reed.cs.depaul.edu/lperkovic/csc242/test3.html', 2, 0)\n",
    "webdir('http://reed.cs.depaul.edu/lperkovic/csc242/test4.html', 2, 0)\n"
   ]
  },
  {
   "cell_type": "markdown",
   "id": "9898489b",
   "metadata": {},
   "source": [
    "## Question 8"
   ]
  },
  {
   "cell_type": "markdown",
   "id": "7754983f",
   "metadata": {},
   "source": [
    "<b>Write SQL queries on the below database table that return:</b><br><br><b>a) All the temperature data.</b><br><br><b>b) All the cities, but without repetition.</b><br><br><b>c) All the records for India.</b><br><br><b>d) All the Fall records.</b><br><br><b>e) The city, country, and season for which the average rainfall is between 200 and 400 millimeters.</b><br><br><b>f) The city and country for which the average Fall temperature is above 20 degrees, in increasing temperature order.</b><br><br><b>g) The total annual rainfall for Cairo.</b><br><br><b>h) The total rainfall for each season.</b>\n",
    "\n",
    "|  CITY    | COUNTRY          | SEASON   | TEMPERATURE (C)   | RAINFALL (mm)   |\n",
    "| :------: | :--------------: | :------: | :---------------: | :-------------: |\n",
    "| Mumbai   | India            | Winter   |    24.8           |  5.9            |\n",
    "| Mumbai   | India            | Spring   |    28.4           |  16.2           |\n",
    "| Mumbai   | India            | Summer   |    27.9           |  1549.4         |\n",
    "| Mumbai   | India            | Fall     |    27.6           |  346.0          |\n",
    "| London   | United Kingdom   | Winter   |    4.2            |  207.7          |\n",
    "| London   | United Kingdom   | Spring   |    8.3            |  169.6          |\n",
    "| London   | United Kingdom   | Summer   |    15.7           |  157.0          |\n",
    "| London   | United Kingdom   | Fall     |    10.4           |  218.5          |\n",
    "| Cairo    | Egypt            | Winter   |    13.6           |  16.5           |\n",
    "| Cairo    | Egypt            | Spring   |    20.7           |  6.5            |\n",
    "| Cairo    | Egypt            | Summer   |    27.7           |  0.1            |\n",
    "| Cairo    | Egypt            | Fall     |    22.2           |  4.5            |"
   ]
  },
  {
   "cell_type": "code",
   "execution_count": 10,
   "id": "c0220201",
   "metadata": {},
   "outputs": [
    {
     "data": {
      "text/plain": [
       "<sqlite3.Cursor at 0x1bd9e1eaa40>"
      ]
     },
     "execution_count": 10,
     "metadata": {},
     "output_type": "execute_result"
    }
   ],
   "source": [
    "import sqlite3\n",
    "connnection = sqlite3.connect('Sample.db')    #Sample Datababase Connection\n",
    "cur = connnection.cursor()\n",
    "cur.execute(\"CREATE TABLE climate (City text, Country text, Season text,Temperature float,Rainfall float)\")"
   ]
  },
  {
   "cell_type": "code",
   "execution_count": 11,
   "id": "73fd34e3",
   "metadata": {},
   "outputs": [
    {
     "data": {
      "text/plain": [
       "<sqlite3.Cursor at 0x1bd9e1eaa40>"
      ]
     },
     "execution_count": 11,
     "metadata": {},
     "output_type": "execute_result"
    }
   ],
   "source": [
    "cur.execute(\"INSERT INTO climate VALUES ('Mumbai', 'India', 'Winter',24.8,5.9)\")\n",
    "cur.execute(\"INSERT INTO climate VALUES ('Mumbai', 'India', 'Spring',28.4,16.2)\")\n",
    "cur.execute(\"INSERT INTO climate VALUES ('Mumbai', 'India', 'Summer',27.9,1549.4 )\")\n",
    "cur.execute(\"INSERT INTO climate VALUES ('Mumbai', 'India', 'Fall',27.6,346.0)\")\n",
    "cur.execute(\"INSERT INTO climate VALUES ('London', 'United Kingdom', 'Winter',4.2,207.7 )\")\n",
    "cur.execute(\"INSERT INTO climate VALUES ('London', 'United Kingdom', 'Spring',8.3,169.6)\")\n",
    "cur.execute(\"INSERT INTO climate VALUES ('London', 'United Kingdom', 'Summer',15.7,157.0)\")\n",
    "cur.execute(\"INSERT INTO climate VALUES ('London', 'United Kingdom', 'Fall',10.4,218.5)\")\n",
    "cur.execute(\"INSERT INTO climate VALUES ('Cairo', 'Egypt', 'Winter',13.6,16.5)\")\n",
    "cur.execute(\"INSERT INTO climate VALUES ('Cairo', 'Egypt', 'Spring',20.7,6.5)\")\n",
    "cur.execute(\"INSERT INTO climate VALUES ('Cairo', 'Egypt', 'Summer',27.7,0.1)\")\n",
    "cur.execute(\"INSERT INTO climate VALUES ('Cairo', 'Egypt', 'Fall',22.2,4.5)\")"
   ]
  },
  {
   "cell_type": "markdown",
   "id": "8b61f73e",
   "metadata": {},
   "source": [
    "### Running select query to print all table rows"
   ]
  },
  {
   "cell_type": "code",
   "execution_count": 12,
   "id": "bd07a25e",
   "metadata": {
    "scrolled": true
   },
   "outputs": [
    {
     "name": "stdout",
     "output_type": "stream",
     "text": [
      "('Mumbai', 'India', 'Winter', 24.8, 5.9)\n",
      "('Mumbai', 'India', 'Spring', 28.4, 16.2)\n",
      "('Mumbai', 'India', 'Summer', 27.9, 1549.4)\n",
      "('Mumbai', 'India', 'Fall', 27.6, 346.0)\n",
      "('London', 'United Kingdom', 'Winter', 4.2, 207.7)\n",
      "('London', 'United Kingdom', 'Spring', 8.3, 169.6)\n",
      "('London', 'United Kingdom', 'Summer', 15.7, 157.0)\n",
      "('London', 'United Kingdom', 'Fall', 10.4, 218.5)\n",
      "('Cairo', 'Egypt', 'Winter', 13.6, 16.5)\n",
      "('Cairo', 'Egypt', 'Spring', 20.7, 6.5)\n",
      "('Cairo', 'Egypt', 'Summer', 27.7, 0.1)\n",
      "('Cairo', 'Egypt', 'Fall', 22.2, 4.5)\n"
     ]
    }
   ],
   "source": [
    "cur.execute('SELECT * FROM climate')\n",
    "content=cur.fetchall()\n",
    "for cells in content:\n",
    "    print(cells)"
   ]
  },
  {
   "cell_type": "markdown",
   "id": "c0a2e5f7",
   "metadata": {},
   "source": [
    "### 8a"
   ]
  },
  {
   "cell_type": "code",
   "execution_count": 13,
   "id": "81a3fc0c",
   "metadata": {},
   "outputs": [
    {
     "name": "stdout",
     "output_type": "stream",
     "text": [
      "(24.8,)\n",
      "(28.4,)\n",
      "(27.9,)\n",
      "(27.6,)\n",
      "(4.2,)\n",
      "(8.3,)\n",
      "(15.7,)\n",
      "(10.4,)\n",
      "(13.6,)\n",
      "(20.7,)\n",
      "(27.7,)\n",
      "(22.2,)\n"
     ]
    }
   ],
   "source": [
    "cur.execute('SELECT Temperature FROM climate')\n",
    "content=cur.fetchall()\n",
    "for cells in content:\n",
    "    print(cells)"
   ]
  },
  {
   "cell_type": "markdown",
   "id": "a3e3d9ad",
   "metadata": {},
   "source": [
    "### 8b"
   ]
  },
  {
   "cell_type": "code",
   "execution_count": 14,
   "id": "9bdc7318",
   "metadata": {},
   "outputs": [
    {
     "name": "stdout",
     "output_type": "stream",
     "text": [
      "('Mumbai',)\n",
      "('London',)\n",
      "('Cairo',)\n"
     ]
    }
   ],
   "source": [
    "cur.execute('SELECT DISTINCT City FROM climate')\n",
    "content=cur.fetchall()\n",
    "for cells in content:\n",
    "    print(cells)"
   ]
  },
  {
   "cell_type": "markdown",
   "id": "0d01de52",
   "metadata": {},
   "source": [
    "### 8c"
   ]
  },
  {
   "cell_type": "code",
   "execution_count": 15,
   "id": "8178d1fd",
   "metadata": {},
   "outputs": [
    {
     "name": "stdout",
     "output_type": "stream",
     "text": [
      "('Mumbai', 'India', 'Winter', 24.8, 5.9)\n",
      "('Mumbai', 'India', 'Spring', 28.4, 16.2)\n",
      "('Mumbai', 'India', 'Summer', 27.9, 1549.4)\n",
      "('Mumbai', 'India', 'Fall', 27.6, 346.0)\n"
     ]
    }
   ],
   "source": [
    "cur.execute('SELECT * FROM climate WHERE Country=\"India\"')\n",
    "content=cur.fetchall()\n",
    "for cells in content:\n",
    "    print(cells)"
   ]
  },
  {
   "cell_type": "markdown",
   "id": "96a2bd9c",
   "metadata": {},
   "source": [
    "### 8d"
   ]
  },
  {
   "cell_type": "code",
   "execution_count": 16,
   "id": "b0c1da49",
   "metadata": {},
   "outputs": [
    {
     "name": "stdout",
     "output_type": "stream",
     "text": [
      "('Mumbai', 'India', 'Fall', 27.6, 346.0)\n",
      "('London', 'United Kingdom', 'Fall', 10.4, 218.5)\n",
      "('Cairo', 'Egypt', 'Fall', 22.2, 4.5)\n"
     ]
    }
   ],
   "source": [
    "cur.execute('SELECT * FROM climate WHERE Season=\"Fall\"')\n",
    "content=cur.fetchall()\n",
    "for cells in content:\n",
    "    print(cells)"
   ]
  },
  {
   "cell_type": "markdown",
   "id": "a5fa60c8",
   "metadata": {},
   "source": [
    "### 8e"
   ]
  },
  {
   "cell_type": "code",
   "execution_count": 17,
   "id": "21a8dcaf",
   "metadata": {},
   "outputs": [
    {
     "name": "stdout",
     "output_type": "stream",
     "text": [
      "('Mumbai', 'India', 'Fall')\n",
      "('London', 'United Kingdom', 'Winter')\n",
      "('London', 'United Kingdom', 'Fall')\n"
     ]
    }
   ],
   "source": [
    "cur.execute('SELECT City, Country, Season FROM climate WHERE Rainfall BETWEEN 200 AND 400 ')\n",
    "content=cur.fetchall()\n",
    "for cells in content:\n",
    "    print(cells)"
   ]
  },
  {
   "cell_type": "markdown",
   "id": "092a209e",
   "metadata": {},
   "source": [
    "### 8f"
   ]
  },
  {
   "cell_type": "code",
   "execution_count": 18,
   "id": "9b43deae",
   "metadata": {},
   "outputs": [
    {
     "name": "stdout",
     "output_type": "stream",
     "text": [
      "('Cairo', 'Egypt')\n",
      "('Mumbai', 'India')\n"
     ]
    }
   ],
   "source": [
    "cur.execute('SELECT City, Country FROM climate WHERE Season = \"Fall\" AND Temperature > 20 ORDER BY Temperature ASC ')\n",
    "content=cur.fetchall()\n",
    "for cells in content:\n",
    "    print(cells)"
   ]
  },
  {
   "cell_type": "markdown",
   "id": "6818b520",
   "metadata": {},
   "source": [
    "### 8g"
   ]
  },
  {
   "cell_type": "code",
   "execution_count": 19,
   "id": "718893d7",
   "metadata": {},
   "outputs": [
    {
     "name": "stdout",
     "output_type": "stream",
     "text": [
      "(27.6,)\n"
     ]
    }
   ],
   "source": [
    "cur.execute('SELECT SUM(Rainfall) FROM climate WHERE City = \"Cairo\"')\n",
    "content=cur.fetchall()\n",
    "for cells in content:\n",
    "    print(cells)"
   ]
  },
  {
   "cell_type": "markdown",
   "id": "7b950f03",
   "metadata": {},
   "source": [
    "### 8h"
   ]
  },
  {
   "cell_type": "code",
   "execution_count": 20,
   "id": "bd317468",
   "metadata": {},
   "outputs": [
    {
     "name": "stdout",
     "output_type": "stream",
     "text": [
      "(569.0,)\n",
      "(192.29999999999998,)\n",
      "(1706.5,)\n",
      "(230.1,)\n"
     ]
    }
   ],
   "source": [
    "cur.execute('SELECT SUM(Rainfall) FROM climate GROUP BY Season')\n",
    "content=cur.fetchall()\n",
    "for cells in content:\n",
    "    print(cells)"
   ]
  },
  {
   "cell_type": "markdown",
   "id": "43babc99",
   "metadata": {},
   "source": [
    "## Question 9"
   ]
  },
  {
   "cell_type": "markdown",
   "id": "859720d3",
   "metadata": {},
   "source": [
    "<b>Suppose list words is defined as follows:</b><br><br>\n",
    "<b>>>> words = ['The', 'quick', 'brown', 'fox', 'jumps', 'over','the', 'lazy', 'dog']</b><br><br>\n",
    "<b>Write list comprehension expressions that use list words and generate the following lists:</b><br><br>\n",
    "<b>a) ['THE', 'QUICK', 'BROWN', 'FOX', 'JUMPS', 'OVER', 'THE','LAZY', 'DOG']</b><br><br><b>b) ['the', 'quick', 'brown', 'fox', 'jumps', 'over', 'the','lazy', 'dog']</b><br><br><b>c) [3, 5, 5, 3, 5, 4, 3, 4, 3] (the list of lengths of words in list words).</b><br><br><b>d) [['THE', 'the', 3], ['QUICK', 'quick', 5], ['BROWN','brown', 5], ['FOX', 'fox', 3], ['JUMPS', 'jumps', 5],['OVER', 'over', 4], ['THE', 'the', 3], ['LAZY', 'lazy',4], ['DOG', 'dog', 3]] (the list containing a list for every word of list words, where each list contains the word in uppercase and lowercase and the length of the word.)</b><br><br><b>e) ['The', 'quick', 'brown', 'fox', 'jumps', 'over', 'the','lazy', 'dog'] (the list of words in list words containing 4 or more characters.)</b>"
   ]
  },
  {
   "cell_type": "code",
   "execution_count": 22,
   "id": "2be25f07",
   "metadata": {},
   "outputs": [],
   "source": [
    " words = ['The', 'quick', 'brown', 'fox', 'jumps', 'over','the', 'lazy', 'dog']"
   ]
  },
  {
   "cell_type": "code",
   "execution_count": 23,
   "id": "a2699972",
   "metadata": {},
   "outputs": [
    {
     "name": "stdout",
     "output_type": "stream",
     "text": [
      "a)  ['THE', 'QUICK', 'BROWN', 'FOX', 'JUMPS', 'OVER', 'THE', 'LAZY', 'DOG']\n"
     ]
    }
   ],
   "source": [
    "uppercase = [word.upper() for word in words]\n",
    "print(\"a) \",uppercase)"
   ]
  },
  {
   "cell_type": "code",
   "execution_count": 24,
   "id": "290ccd81",
   "metadata": {},
   "outputs": [
    {
     "name": "stdout",
     "output_type": "stream",
     "text": [
      "b)  ['the', 'quick', 'brown', 'fox', 'jumps', 'over', 'the', 'lazy', 'dog']\n"
     ]
    }
   ],
   "source": [
    "lowercase = [word.lower() for word in words]\n",
    "print(\"b) \",lowercase)"
   ]
  },
  {
   "cell_type": "code",
   "execution_count": 25,
   "id": "642e5bba",
   "metadata": {},
   "outputs": [
    {
     "name": "stdout",
     "output_type": "stream",
     "text": [
      "c)  [3, 5, 5, 3, 5, 4, 3, 4, 3]\n"
     ]
    }
   ],
   "source": [
    "lengths = [len(word) for word in words]\n",
    "print(\"c) \",lengths)"
   ]
  },
  {
   "cell_type": "code",
   "execution_count": 26,
   "id": "92980f45",
   "metadata": {},
   "outputs": [
    {
     "name": "stdout",
     "output_type": "stream",
     "text": [
      "d)  [['THE', 'the', 3], ['QUICK', 'quick', 5], ['BROWN', 'brown', 5], ['FOX', 'fox', 3], ['JUMPS', 'jumps', 5], ['OVER', 'over', 4], ['THE', 'the', 3], ['LAZY', 'lazy', 4], ['DOG', 'dog', 3]]\n"
     ]
    }
   ],
   "source": [
    "info = [[word.upper(), word.lower(), len(word)] for word in words]\n",
    "print(\"d) \",info)"
   ]
  },
  {
   "cell_type": "code",
   "execution_count": 27,
   "id": "2b017592",
   "metadata": {},
   "outputs": [
    {
     "name": "stdout",
     "output_type": "stream",
     "text": [
      "e)  ['quick', 'brown', 'jumps', 'over', 'lazy']\n"
     ]
    }
   ],
   "source": [
    "long = [word for word in words if len(word) >= 4]\n",
    "print(\"e) \",long)"
   ]
  },
  {
   "cell_type": "code",
   "execution_count": null,
   "id": "a16406bf",
   "metadata": {},
   "outputs": [],
   "source": []
  }
 ],
 "metadata": {
  "kernelspec": {
   "display_name": "Python 3 (ipykernel)",
   "language": "python",
   "name": "python3"
  },
  "language_info": {
   "codemirror_mode": {
    "name": "ipython",
    "version": 3
   },
   "file_extension": ".py",
   "mimetype": "text/x-python",
   "name": "python",
   "nbconvert_exporter": "python",
   "pygments_lexer": "ipython3",
   "version": "3.10.9"
  }
 },
 "nbformat": 4,
 "nbformat_minor": 5
}
